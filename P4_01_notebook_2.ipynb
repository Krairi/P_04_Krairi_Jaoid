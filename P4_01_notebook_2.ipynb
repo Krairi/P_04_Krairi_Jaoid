{
  "nbformat": 4,
  "nbformat_minor": 0,
  "metadata": {
    "kernelspec": {
      "display_name": "Python 3",
      "language": "python",
      "name": "python3"
    },
    "language_info": {
      "codemirror_mode": {
        "name": "ipython",
        "version": 3
      },
      "file_extension": ".py",
      "mimetype": "text/x-python",
      "name": "python",
      "nbconvert_exporter": "python",
      "pygments_lexer": "ipython3",
      "version": "3.8.5"
    },
    "colab": {
      "name": "P4_01_notebook_2",
      "provenance": [],
      "collapsed_sections": [],
      "toc_visible": true,
      "machine_shape": "hm"
    }
  },
  "cells": [
    {
      "cell_type": "markdown",
      "metadata": {
        "id": "upA9ACtylAvy"
      },
      "source": [
        "## SUITE P4"
      ]
    },
    {
      "cell_type": "code",
      "metadata": {
        "colab": {
          "base_uri": "https://localhost:8080/"
        },
        "id": "CwNWSTzclZrm",
        "outputId": "05ad530e-c665-402e-f021-af47c3bce4d3"
      },
      "source": [
        "from google.colab import drive\n",
        "drive.mount('/content/drive')"
      ],
      "execution_count": null,
      "outputs": [
        {
          "output_type": "stream",
          "name": "stdout",
          "text": [
            "Mounted at /content/drive\n"
          ]
        }
      ]
    },
    {
      "cell_type": "markdown",
      "metadata": {
        "id": "QNiTAfMRlAv2"
      },
      "source": [
        "## COMPARAISON ET SYNTHESE DES RESULTATS POUR LES MODELES UTILISES"
      ]
    },
    {
      "cell_type": "markdown",
      "metadata": {
        "id": "T5Wh_50inHDa"
      },
      "source": [
        "Dans le Notebook Jupyter nous avons vu l'exploration, ainsi que le prétraitement des données. Ici nous utiliserons un GPU pour effectuer les modélisations Catboost, LightGBM & XGBoost. Ici nous sommes en Google Colab, donc l'accès au GPU est illimité."
      ]
    },
    {
      "cell_type": "code",
      "metadata": {
        "colab": {
          "base_uri": "https://localhost:8080/",
          "height": 35
        },
        "id": "6xb3lloylAv3",
        "outputId": "bd2c6ca3-fa42-4266-c533-f90a25ffd7fa"
      },
      "source": [
        "#Test de l'activation du GPU\n",
        "#Si le GPU est activé, il donnera la sortie suivante - '/ device: GPU: 0 '\n",
        "import tensorflow as tf\n",
        "tf.test.gpu_device_name ()"
      ],
      "execution_count": null,
      "outputs": [
        {
          "output_type": "execute_result",
          "data": {
            "application/vnd.google.colaboratory.intrinsic+json": {
              "type": "string"
            },
            "text/plain": [
              "'/device:GPU:0'"
            ]
          },
          "metadata": {},
          "execution_count": 2
        }
      ]
    },
    {
      "cell_type": "code",
      "metadata": {
        "colab": {
          "base_uri": "https://localhost:8080/"
        },
        "id": "Egr9TIDlnWfL",
        "outputId": "21dad916-c092-4e10-bd54-54930c106d59"
      },
      "source": [
        "from tensorflow.python.client import device_lib \n",
        "device_lib.list_local_devices ()"
      ],
      "execution_count": null,
      "outputs": [
        {
          "output_type": "execute_result",
          "data": {
            "text/plain": [
              "[name: \"/device:CPU:0\"\n",
              " device_type: \"CPU\"\n",
              " memory_limit: 268435456\n",
              " locality {\n",
              " }\n",
              " incarnation: 10796414979598788215, name: \"/device:GPU:0\"\n",
              " device_type: \"GPU\"\n",
              " memory_limit: 14512029696\n",
              " locality {\n",
              "   bus_id: 1\n",
              "   links {\n",
              "   }\n",
              " }\n",
              " incarnation: 15278138733371244321\n",
              " physical_device_desc: \"device: 0, name: Tesla T4, pci bus id: 0000:00:04.0, compute capability: 7.5\"]"
            ]
          },
          "metadata": {},
          "execution_count": 3
        }
      ]
    },
    {
      "cell_type": "code",
      "metadata": {
        "colab": {
          "base_uri": "https://localhost:8080/"
        },
        "id": "94ASk8udnqLe",
        "outputId": "7a104c1f-078a-41f3-cd2c-0186f9f2daac"
      },
      "source": [
        "#Vérification de la RAM\n",
        "!cat /proc/meminfo"
      ],
      "execution_count": null,
      "outputs": [
        {
          "output_type": "stream",
          "name": "stdout",
          "text": [
            "MemTotal:       26696424 kB\n",
            "MemFree:        20185044 kB\n",
            "MemAvailable:   25252396 kB\n",
            "Buffers:          193364 kB\n",
            "Cached:          4835648 kB\n",
            "SwapCached:            0 kB\n",
            "Active:          2120964 kB\n",
            "Inactive:        3845920 kB\n",
            "Active(anon):     722772 kB\n",
            "Inactive(anon):    10764 kB\n",
            "Active(file):    1398192 kB\n",
            "Inactive(file):  3835156 kB\n",
            "Unevictable:           0 kB\n",
            "Mlocked:               0 kB\n",
            "SwapTotal:             0 kB\n",
            "SwapFree:              0 kB\n",
            "Dirty:              1340 kB\n",
            "Writeback:             0 kB\n",
            "AnonPages:        937788 kB\n",
            "Mapped:           650696 kB\n",
            "Shmem:             11496 kB\n",
            "KReclaimable:     251492 kB\n",
            "Slab:             330200 kB\n",
            "SReclaimable:     251492 kB\n",
            "SUnreclaim:        78708 kB\n",
            "KernelStack:        6600 kB\n",
            "PageTables:         9816 kB\n",
            "NFS_Unstable:          0 kB\n",
            "Bounce:                0 kB\n",
            "WritebackTmp:          0 kB\n",
            "CommitLimit:    13348212 kB\n",
            "Committed_AS:    4681668 kB\n",
            "VmallocTotal:   34359738367 kB\n",
            "VmallocUsed:       52904 kB\n",
            "VmallocChunk:          0 kB\n",
            "Percpu:             2848 kB\n",
            "AnonHugePages:         0 kB\n",
            "ShmemHugePages:        0 kB\n",
            "ShmemPmdMapped:        0 kB\n",
            "FileHugePages:         0 kB\n",
            "FilePmdMapped:         0 kB\n",
            "CmaTotal:              0 kB\n",
            "CmaFree:               0 kB\n",
            "HugePages_Total:       0\n",
            "HugePages_Free:        0\n",
            "HugePages_Rsvd:        0\n",
            "HugePages_Surp:        0\n",
            "Hugepagesize:       2048 kB\n",
            "Hugetlb:               0 kB\n",
            "DirectMap4k:      428864 kB\n",
            "DirectMap2M:    11102208 kB\n",
            "DirectMap1G:    17825792 kB\n"
          ]
        }
      ]
    },
    {
      "cell_type": "code",
      "metadata": {
        "id": "4oneYkUy6-uQ",
        "colab": {
          "base_uri": "https://localhost:8080/"
        },
        "outputId": "a0ea1c7e-9fa9-43f7-915e-126321053261"
      },
      "source": [
        "pip install catboost"
      ],
      "execution_count": null,
      "outputs": [
        {
          "output_type": "stream",
          "name": "stdout",
          "text": [
            "Requirement already satisfied: catboost in /usr/local/lib/python3.7/dist-packages (0.26.1)\n",
            "Requirement already satisfied: plotly in /usr/local/lib/python3.7/dist-packages (from catboost) (4.4.1)\n",
            "Requirement already satisfied: matplotlib in /usr/local/lib/python3.7/dist-packages (from catboost) (3.2.2)\n",
            "Requirement already satisfied: pandas>=0.24.0 in /usr/local/lib/python3.7/dist-packages (from catboost) (1.1.5)\n",
            "Requirement already satisfied: scipy in /usr/local/lib/python3.7/dist-packages (from catboost) (1.4.1)\n",
            "Requirement already satisfied: six in /usr/local/lib/python3.7/dist-packages (from catboost) (1.15.0)\n",
            "Requirement already satisfied: graphviz in /usr/local/lib/python3.7/dist-packages (from catboost) (0.10.1)\n",
            "Requirement already satisfied: numpy>=1.16.0 in /usr/local/lib/python3.7/dist-packages (from catboost) (1.19.5)\n",
            "Requirement already satisfied: pytz>=2017.2 in /usr/local/lib/python3.7/dist-packages (from pandas>=0.24.0->catboost) (2018.9)\n",
            "Requirement already satisfied: python-dateutil>=2.7.3 in /usr/local/lib/python3.7/dist-packages (from pandas>=0.24.0->catboost) (2.8.2)\n",
            "Requirement already satisfied: kiwisolver>=1.0.1 in /usr/local/lib/python3.7/dist-packages (from matplotlib->catboost) (1.3.1)\n",
            "Requirement already satisfied: cycler>=0.10 in /usr/local/lib/python3.7/dist-packages (from matplotlib->catboost) (0.10.0)\n",
            "Requirement already satisfied: pyparsing!=2.0.4,!=2.1.2,!=2.1.6,>=2.0.1 in /usr/local/lib/python3.7/dist-packages (from matplotlib->catboost) (2.4.7)\n",
            "Requirement already satisfied: retrying>=1.3.3 in /usr/local/lib/python3.7/dist-packages (from plotly->catboost) (1.3.3)\n"
          ]
        }
      ]
    },
    {
      "cell_type": "code",
      "metadata": {
        "colab": {
          "base_uri": "https://localhost:8080/"
        },
        "id": "zXo-eT8weX74",
        "outputId": "dff24e88-57f0-4246-dde2-6a028fc6347f"
      },
      "source": [
        "!git clone --recursive https://github.com/Microsoft/LightGBM"
      ],
      "execution_count": null,
      "outputs": [
        {
          "output_type": "stream",
          "name": "stdout",
          "text": [
            "fatal: destination path 'LightGBM' already exists and is not an empty directory.\n"
          ]
        }
      ]
    },
    {
      "cell_type": "code",
      "metadata": {
        "colab": {
          "base_uri": "https://localhost:8080/"
        },
        "id": "wx_ibW-Lfa-t",
        "outputId": "f83a422a-0e34-45b2-b394-3dae0182d5bc"
      },
      "source": [
        "%cd /content/LightGBM"
      ],
      "execution_count": null,
      "outputs": [
        {
          "output_type": "stream",
          "name": "stdout",
          "text": [
            "/content/LightGBM\n"
          ]
        }
      ]
    },
    {
      "cell_type": "code",
      "metadata": {
        "id": "2s6lM4_Yg4vt",
        "colab": {
          "base_uri": "https://localhost:8080/"
        },
        "outputId": "61b514e3-926e-42b6-c4a0-291620c189d7"
      },
      "source": [
        "!mkdir build"
      ],
      "execution_count": null,
      "outputs": [
        {
          "output_type": "stream",
          "name": "stdout",
          "text": [
            "mkdir: cannot create directory ‘build’: File exists\n"
          ]
        }
      ]
    },
    {
      "cell_type": "code",
      "metadata": {
        "colab": {
          "base_uri": "https://localhost:8080/"
        },
        "id": "QQV5ROaXhMI-",
        "outputId": "8b33478e-ddfb-418b-8460-2dbddbe9a7a4"
      },
      "source": [
        "!cmake -DUSE_GPU=1 #avoid ..\n",
        "!make -j$(nproc)"
      ],
      "execution_count": null,
      "outputs": [
        {
          "output_type": "stream",
          "name": "stdout",
          "text": [
            "-- OpenCL include directory: /usr/include\n",
            "-- Boost version: 1.65.1\n",
            "-- Found the following Boost libraries:\n",
            "--   filesystem\n",
            "--   system\n",
            "-- Using _mm_prefetch\n",
            "-- Using _mm_malloc\n",
            "-- Configuring done\n",
            "-- Generating done\n",
            "-- Build files have been written to: /content/LightGBM\n",
            "[ 79%] Built target lightgbm\n",
            "[100%] Built target _lightgbm\n"
          ]
        }
      ]
    },
    {
      "cell_type": "code",
      "metadata": {
        "colab": {
          "base_uri": "https://localhost:8080/"
        },
        "id": "L7bJbkwLha4a",
        "outputId": "6ac1bc94-043e-4486-bf13-271a75d81428"
      },
      "source": [
        "!sudo apt-get -y install python-pip"
      ],
      "execution_count": null,
      "outputs": [
        {
          "output_type": "stream",
          "name": "stdout",
          "text": [
            "Reading package lists... Done\n",
            "Building dependency tree       \n",
            "Reading state information... Done\n",
            "python-pip is already the newest version (9.0.1-2.3~ubuntu1.18.04.5).\n",
            "0 upgraded, 0 newly installed, 0 to remove and 40 not upgraded.\n"
          ]
        }
      ]
    },
    {
      "cell_type": "code",
      "metadata": {
        "colab": {
          "base_uri": "https://localhost:8080/"
        },
        "id": "T3JJ3LaChePh",
        "outputId": "67363f49-c322-498b-e728-8a4bdcc18ecd"
      },
      "source": [
        "%cd /content/LightGBM/python-package"
      ],
      "execution_count": null,
      "outputs": [
        {
          "output_type": "stream",
          "name": "stdout",
          "text": [
            "/content/LightGBM/python-package\n"
          ]
        }
      ]
    },
    {
      "cell_type": "code",
      "metadata": {
        "colab": {
          "base_uri": "https://localhost:8080/"
        },
        "id": "L-i2kOu-hj0v",
        "outputId": "a9fbe5e5-7a10-4e99-babe-eb448397f8e8"
      },
      "source": [
        "!sudo python setup.py install — precompile"
      ],
      "execution_count": null,
      "outputs": [
        {
          "output_type": "stream",
          "name": "stdout",
          "text": [
            "invalid command name '—'\n"
          ]
        }
      ]
    },
    {
      "cell_type": "code",
      "metadata": {
        "colab": {
          "base_uri": "https://localhost:8080/"
        },
        "id": "HVowknFF6U14",
        "outputId": "6d9e6276-324c-4fd7-ddbb-8c3be086729c"
      },
      "source": [
        "%pylab inline"
      ],
      "execution_count": null,
      "outputs": [
        {
          "output_type": "stream",
          "name": "stdout",
          "text": [
            "Populating the interactive namespace from numpy and matplotlib\n"
          ]
        }
      ]
    },
    {
      "cell_type": "code",
      "metadata": {
        "id": "jXesiV9AGvT2"
      },
      "source": [
        "import numpy as np"
      ],
      "execution_count": null,
      "outputs": []
    },
    {
      "cell_type": "code",
      "metadata": {
        "id": "fHWM1TlUqX2Y",
        "colab": {
          "base_uri": "https://localhost:8080/"
        },
        "outputId": "a98e25bf-e701-486d-cec0-746162704f93"
      },
      "source": [
        "import pandas as pd\n",
        "import seaborn as sb\n",
        "import time, pickle\n",
        "import os\n",
        "\n",
        "from zipfile import ZipFile\n",
        "\n",
        "#Prétraitement, suréchantillonnage, sélection de modèle, évaluation de modèle\n",
        "from sklearn.model_selection import train_test_split, StratifiedKFold\n",
        "from imblearn.over_sampling import SMOTE\n",
        "from sklearn.metrics import accuracy_score, roc_auc_score, f1_score, precision_score, recall_score \n",
        "from sklearn.metrics import classification_report, confusion_matrix, roc_curve\n",
        "from imblearn.pipeline import make_pipeline, Pipeline\n",
        "from sklearn.model_selection import cross_val_predict, cross_val_score, learning_curve, cross_validate,KFold\n",
        "\n",
        "\n",
        "import warnings\n",
        "warnings.filterwarnings(\"ignore\")"
      ],
      "execution_count": null,
      "outputs": [
        {
          "output_type": "stream",
          "name": "stderr",
          "text": [
            "/usr/local/lib/python3.7/dist-packages/sklearn/externals/six.py:31: FutureWarning: The module is deprecated in version 0.21 and will be removed in version 0.23 since we've dropped support for Python 2.7. Please rely on the official version of six (https://pypi.org/project/six/).\n",
            "  \"(https://pypi.org/project/six/).\", FutureWarning)\n",
            "/usr/local/lib/python3.7/dist-packages/sklearn/utils/deprecation.py:144: FutureWarning: The sklearn.neighbors.base module is  deprecated in version 0.22 and will be removed in version 0.24. The corresponding classes / functions should instead be imported from sklearn.neighbors. Anything that cannot be imported from sklearn.neighbors is now part of the private API.\n",
            "  warnings.warn(message, FutureWarning)\n"
          ]
        }
      ]
    },
    {
      "cell_type": "code",
      "metadata": {
        "id": "rS9ApiiCx6uV"
      },
      "source": [
        "pd.options.display.max_rows = 1000\n",
        "pd.options.display.max_columns = 1000"
      ],
      "execution_count": null,
      "outputs": []
    },
    {
      "cell_type": "code",
      "metadata": {
        "id": "c9nVNhjo6zY-"
      },
      "source": [
        "plt.style.use('fivethirtyeight')\n",
        "plt.rcParams.update(\n",
        "    {\n",
        "     'xtick.labelsize':15,\n",
        "     'ytick.labelsize':15,\n",
        "     'axes.labelsize': 15,\n",
        "     'legend.fontsize': 15,\n",
        "     'axes.titlesize':15,\n",
        "     'axes.titleweight':'bold',\n",
        "     'axes.titleweight':'bold'\n",
        "    })"
      ],
      "execution_count": null,
      "outputs": []
    },
    {
      "cell_type": "code",
      "metadata": {
        "colab": {
          "base_uri": "https://localhost:8080/"
        },
        "id": "LnmDuu94rn1h",
        "outputId": "ad2ae78f-b7a4-4d8d-d7ac-ac623d27e1a4"
      },
      "source": [
        "# Télecharger le fichier de jeu de données équilibrés\n",
        "from google.colab import drive\n",
        "\n",
        "drive.mount('/content/gdrive/', force_remount=True)"
      ],
      "execution_count": null,
      "outputs": [
        {
          "output_type": "stream",
          "name": "stdout",
          "text": [
            "Mounted at /content/gdrive/\n"
          ]
        }
      ]
    },
    {
      "cell_type": "code",
      "metadata": {
        "colab": {
          "base_uri": "https://localhost:8080/"
        },
        "id": "mGFDZ_hGMfw5",
        "outputId": "f7287121-f763-451b-b4db-abfccd59e132"
      },
      "source": [
        "z = ZipFile(\"/content/gdrive/My Drive/Colab Notebooks/input/Var_imp.zip\")\n",
        "Var_imp = pd.read_csv(z.open('Var_imp.csv'))\n",
        "\n",
        "Var_imp.shape"
      ],
      "execution_count": null,
      "outputs": [
        {
          "output_type": "execute_result",
          "data": {
            "text/plain": [
              "(662860, 21)"
            ]
          },
          "metadata": {},
          "execution_count": 19
        }
      ]
    },
    {
      "cell_type": "code",
      "metadata": {
        "colab": {
          "base_uri": "https://localhost:8080/",
          "height": 451
        },
        "id": "ZvovQVo7vhyf",
        "outputId": "cf7e99e3-5a97-4bd5-e423-8be054464b7f"
      },
      "source": [
        "Var_imp"
      ],
      "execution_count": null,
      "outputs": [
        {
          "output_type": "execute_result",
          "data": {
            "text/html": [
              "<div>\n",
              "<style scoped>\n",
              "    .dataframe tbody tr th:only-of-type {\n",
              "        vertical-align: middle;\n",
              "    }\n",
              "\n",
              "    .dataframe tbody tr th {\n",
              "        vertical-align: top;\n",
              "    }\n",
              "\n",
              "    .dataframe thead th {\n",
              "        text-align: right;\n",
              "    }\n",
              "</style>\n",
              "<table border=\"1\" class=\"dataframe\">\n",
              "  <thead>\n",
              "    <tr style=\"text-align: right;\">\n",
              "      <th></th>\n",
              "      <th>Unnamed: 0</th>\n",
              "      <th>TARGET</th>\n",
              "      <th>EXT_SOURCE_2</th>\n",
              "      <th>EXT_SOURCE_3</th>\n",
              "      <th>EXT_SOURCE_1</th>\n",
              "      <th>PREV_BUR_MEAN_DAYS_CREDIT</th>\n",
              "      <th>DAYS_BIRTH</th>\n",
              "      <th>DAYS_EMPLOYED</th>\n",
              "      <th>NAME_EDUCATION_TYPE_Secondary / secondary special</th>\n",
              "      <th>PREV_BUR_MEAN_DAYS_CREDIT_UPDATE</th>\n",
              "      <th>REGION_RATING_CLIENT_W_CITY</th>\n",
              "      <th>NAME_INCOME_TYPE_Working</th>\n",
              "      <th>DAYS_LAST_PHONE_CHANGE</th>\n",
              "      <th>FLAG_DOCUMENT_3</th>\n",
              "      <th>PREV_APPL_MEAN_DAYS_DECISION</th>\n",
              "      <th>CODE_GENDER_M</th>\n",
              "      <th>DAYS_ID_PUBLISH</th>\n",
              "      <th>EMERGENCYSTATE_MODE_No</th>\n",
              "      <th>ELEVATORS_MEDI</th>\n",
              "      <th>FLOORSMAX_AVG</th>\n",
              "      <th>PREV_BUR_MEAN_DAYS_ENDDATE_FACT</th>\n",
              "    </tr>\n",
              "  </thead>\n",
              "  <tbody>\n",
              "    <tr>\n",
              "      <th>0</th>\n",
              "      <td>0</td>\n",
              "      <td>1.0</td>\n",
              "      <td>0.307542</td>\n",
              "      <td>0.155054</td>\n",
              "      <td>0.073300</td>\n",
              "      <td>0.700890</td>\n",
              "      <td>0.881337</td>\n",
              "      <td>0.964437</td>\n",
              "      <td>1.0</td>\n",
              "      <td>0.987737</td>\n",
              "      <td>0.750000</td>\n",
              "      <td>1.0</td>\n",
              "      <td>0.739968</td>\n",
              "      <td>1.0</td>\n",
              "      <td>0.793151</td>\n",
              "      <td>1.0</td>\n",
              "      <td>0.705433</td>\n",
              "      <td>1.000000</td>\n",
              "      <td>0.00</td>\n",
              "      <td>0.083300</td>\n",
              "      <td>0.916731</td>\n",
              "    </tr>\n",
              "    <tr>\n",
              "      <th>1</th>\n",
              "      <td>1</td>\n",
              "      <td>0.0</td>\n",
              "      <td>0.727773</td>\n",
              "      <td>0.595159</td>\n",
              "      <td>0.313736</td>\n",
              "      <td>0.520619</td>\n",
              "      <td>0.473087</td>\n",
              "      <td>0.933676</td>\n",
              "      <td>0.0</td>\n",
              "      <td>0.980193</td>\n",
              "      <td>0.500000</td>\n",
              "      <td>0.0</td>\n",
              "      <td>0.810135</td>\n",
              "      <td>1.0</td>\n",
              "      <td>0.553767</td>\n",
              "      <td>0.0</td>\n",
              "      <td>0.959566</td>\n",
              "      <td>1.000000</td>\n",
              "      <td>0.08</td>\n",
              "      <td>0.291700</td>\n",
              "      <td>0.868999</td>\n",
              "    </tr>\n",
              "    <tr>\n",
              "      <th>2</th>\n",
              "      <td>2</td>\n",
              "      <td>0.0</td>\n",
              "      <td>0.650190</td>\n",
              "      <td>0.814130</td>\n",
              "      <td>0.519046</td>\n",
              "      <td>0.703285</td>\n",
              "      <td>0.345593</td>\n",
              "      <td>0.987439</td>\n",
              "      <td>1.0</td>\n",
              "      <td>0.986970</td>\n",
              "      <td>0.750000</td>\n",
              "      <td>1.0</td>\n",
              "      <td>0.813116</td>\n",
              "      <td>0.0</td>\n",
              "      <td>0.721575</td>\n",
              "      <td>1.0</td>\n",
              "      <td>0.648326</td>\n",
              "      <td>0.000000</td>\n",
              "      <td>0.00</td>\n",
              "      <td>0.166700</td>\n",
              "      <td>0.936429</td>\n",
              "    </tr>\n",
              "    <tr>\n",
              "      <th>3</th>\n",
              "      <td>3</td>\n",
              "      <td>0.0</td>\n",
              "      <td>0.760751</td>\n",
              "      <td>0.595159</td>\n",
              "      <td>0.519046</td>\n",
              "      <td>0.639802</td>\n",
              "      <td>0.347884</td>\n",
              "      <td>0.830337</td>\n",
              "      <td>1.0</td>\n",
              "      <td>0.988228</td>\n",
              "      <td>0.750000</td>\n",
              "      <td>1.0</td>\n",
              "      <td>0.858519</td>\n",
              "      <td>1.0</td>\n",
              "      <td>0.907382</td>\n",
              "      <td>0.0</td>\n",
              "      <td>0.661387</td>\n",
              "      <td>0.000000</td>\n",
              "      <td>0.00</td>\n",
              "      <td>0.166700</td>\n",
              "      <td>0.889405</td>\n",
              "    </tr>\n",
              "    <tr>\n",
              "      <th>4</th>\n",
              "      <td>4</td>\n",
              "      <td>0.0</td>\n",
              "      <td>0.377472</td>\n",
              "      <td>0.595159</td>\n",
              "      <td>0.519046</td>\n",
              "      <td>0.606776</td>\n",
              "      <td>0.296071</td>\n",
              "      <td>0.830393</td>\n",
              "      <td>1.0</td>\n",
              "      <td>0.980980</td>\n",
              "      <td>0.750000</td>\n",
              "      <td>1.0</td>\n",
              "      <td>0.746388</td>\n",
              "      <td>0.0</td>\n",
              "      <td>0.581906</td>\n",
              "      <td>1.0</td>\n",
              "      <td>0.519522</td>\n",
              "      <td>0.000000</td>\n",
              "      <td>0.00</td>\n",
              "      <td>0.166700</td>\n",
              "      <td>0.906524</td>\n",
              "    </tr>\n",
              "    <tr>\n",
              "      <th>...</th>\n",
              "      <td>...</td>\n",
              "      <td>...</td>\n",
              "      <td>...</td>\n",
              "      <td>...</td>\n",
              "      <td>...</td>\n",
              "      <td>...</td>\n",
              "      <td>...</td>\n",
              "      <td>...</td>\n",
              "      <td>...</td>\n",
              "      <td>...</td>\n",
              "      <td>...</td>\n",
              "      <td>...</td>\n",
              "      <td>...</td>\n",
              "      <td>...</td>\n",
              "      <td>...</td>\n",
              "      <td>...</td>\n",
              "      <td>...</td>\n",
              "      <td>...</td>\n",
              "      <td>...</td>\n",
              "      <td>...</td>\n",
              "      <td>...</td>\n",
              "    </tr>\n",
              "    <tr>\n",
              "      <th>662855</th>\n",
              "      <td>662855</td>\n",
              "      <td>1.0</td>\n",
              "      <td>0.232275</td>\n",
              "      <td>0.248908</td>\n",
              "      <td>0.519046</td>\n",
              "      <td>0.944229</td>\n",
              "      <td>0.414898</td>\n",
              "      <td>0.944263</td>\n",
              "      <td>1.0</td>\n",
              "      <td>0.997241</td>\n",
              "      <td>0.750000</td>\n",
              "      <td>1.0</td>\n",
              "      <td>0.823446</td>\n",
              "      <td>1.0</td>\n",
              "      <td>0.779538</td>\n",
              "      <td>1.0</td>\n",
              "      <td>0.764924</td>\n",
              "      <td>0.000000</td>\n",
              "      <td>0.00</td>\n",
              "      <td>0.166700</td>\n",
              "      <td>0.892926</td>\n",
              "    </tr>\n",
              "    <tr>\n",
              "      <th>662856</th>\n",
              "      <td>662856</td>\n",
              "      <td>1.0</td>\n",
              "      <td>0.644083</td>\n",
              "      <td>0.360471</td>\n",
              "      <td>0.519046</td>\n",
              "      <td>0.463380</td>\n",
              "      <td>0.617653</td>\n",
              "      <td>0.984173</td>\n",
              "      <td>1.0</td>\n",
              "      <td>0.990022</td>\n",
              "      <td>0.768832</td>\n",
              "      <td>1.0</td>\n",
              "      <td>0.893660</td>\n",
              "      <td>1.0</td>\n",
              "      <td>0.919978</td>\n",
              "      <td>0.0</td>\n",
              "      <td>0.433608</td>\n",
              "      <td>1.000000</td>\n",
              "      <td>0.00</td>\n",
              "      <td>0.166700</td>\n",
              "      <td>0.697703</td>\n",
              "    </tr>\n",
              "    <tr>\n",
              "      <th>662857</th>\n",
              "      <td>662857</td>\n",
              "      <td>1.0</td>\n",
              "      <td>0.393880</td>\n",
              "      <td>0.059486</td>\n",
              "      <td>0.519046</td>\n",
              "      <td>0.925785</td>\n",
              "      <td>0.622990</td>\n",
              "      <td>0.961884</td>\n",
              "      <td>1.0</td>\n",
              "      <td>0.999121</td>\n",
              "      <td>1.000000</td>\n",
              "      <td>1.0</td>\n",
              "      <td>0.940217</td>\n",
              "      <td>0.0</td>\n",
              "      <td>0.936183</td>\n",
              "      <td>0.0</td>\n",
              "      <td>0.705244</td>\n",
              "      <td>0.000000</td>\n",
              "      <td>0.00</td>\n",
              "      <td>0.166700</td>\n",
              "      <td>0.997252</td>\n",
              "    </tr>\n",
              "    <tr>\n",
              "      <th>662858</th>\n",
              "      <td>662858</td>\n",
              "      <td>1.0</td>\n",
              "      <td>0.586597</td>\n",
              "      <td>0.318129</td>\n",
              "      <td>0.085116</td>\n",
              "      <td>0.602972</td>\n",
              "      <td>0.678005</td>\n",
              "      <td>0.736259</td>\n",
              "      <td>1.0</td>\n",
              "      <td>0.982637</td>\n",
              "      <td>0.750000</td>\n",
              "      <td>1.0</td>\n",
              "      <td>0.944038</td>\n",
              "      <td>1.0</td>\n",
              "      <td>0.618627</td>\n",
              "      <td>1.0</td>\n",
              "      <td>0.851677</td>\n",
              "      <td>1.000000</td>\n",
              "      <td>0.00</td>\n",
              "      <td>0.011969</td>\n",
              "      <td>0.893496</td>\n",
              "    </tr>\n",
              "    <tr>\n",
              "      <th>662859</th>\n",
              "      <td>662859</td>\n",
              "      <td>1.0</td>\n",
              "      <td>0.763443</td>\n",
              "      <td>0.252506</td>\n",
              "      <td>0.535033</td>\n",
              "      <td>0.548743</td>\n",
              "      <td>0.479055</td>\n",
              "      <td>0.675456</td>\n",
              "      <td>1.0</td>\n",
              "      <td>0.975562</td>\n",
              "      <td>0.750000</td>\n",
              "      <td>1.0</td>\n",
              "      <td>0.582141</td>\n",
              "      <td>1.0</td>\n",
              "      <td>0.633278</td>\n",
              "      <td>0.0</td>\n",
              "      <td>0.356632</td>\n",
              "      <td>0.084432</td>\n",
              "      <td>0.00</td>\n",
              "      <td>0.166700</td>\n",
              "      <td>0.826608</td>\n",
              "    </tr>\n",
              "  </tbody>\n",
              "</table>\n",
              "<p>662860 rows × 21 columns</p>\n",
              "</div>"
            ],
            "text/plain": [
              "        Unnamed: 0  TARGET  EXT_SOURCE_2  EXT_SOURCE_3  EXT_SOURCE_1  \\\n",
              "0                0     1.0      0.307542      0.155054      0.073300   \n",
              "1                1     0.0      0.727773      0.595159      0.313736   \n",
              "2                2     0.0      0.650190      0.814130      0.519046   \n",
              "3                3     0.0      0.760751      0.595159      0.519046   \n",
              "4                4     0.0      0.377472      0.595159      0.519046   \n",
              "...            ...     ...           ...           ...           ...   \n",
              "662855      662855     1.0      0.232275      0.248908      0.519046   \n",
              "662856      662856     1.0      0.644083      0.360471      0.519046   \n",
              "662857      662857     1.0      0.393880      0.059486      0.519046   \n",
              "662858      662858     1.0      0.586597      0.318129      0.085116   \n",
              "662859      662859     1.0      0.763443      0.252506      0.535033   \n",
              "\n",
              "        PREV_BUR_MEAN_DAYS_CREDIT  DAYS_BIRTH  DAYS_EMPLOYED  \\\n",
              "0                        0.700890    0.881337       0.964437   \n",
              "1                        0.520619    0.473087       0.933676   \n",
              "2                        0.703285    0.345593       0.987439   \n",
              "3                        0.639802    0.347884       0.830337   \n",
              "4                        0.606776    0.296071       0.830393   \n",
              "...                           ...         ...            ...   \n",
              "662855                   0.944229    0.414898       0.944263   \n",
              "662856                   0.463380    0.617653       0.984173   \n",
              "662857                   0.925785    0.622990       0.961884   \n",
              "662858                   0.602972    0.678005       0.736259   \n",
              "662859                   0.548743    0.479055       0.675456   \n",
              "\n",
              "        NAME_EDUCATION_TYPE_Secondary / secondary special  \\\n",
              "0                                                     1.0   \n",
              "1                                                     0.0   \n",
              "2                                                     1.0   \n",
              "3                                                     1.0   \n",
              "4                                                     1.0   \n",
              "...                                                   ...   \n",
              "662855                                                1.0   \n",
              "662856                                                1.0   \n",
              "662857                                                1.0   \n",
              "662858                                                1.0   \n",
              "662859                                                1.0   \n",
              "\n",
              "        PREV_BUR_MEAN_DAYS_CREDIT_UPDATE  REGION_RATING_CLIENT_W_CITY  \\\n",
              "0                               0.987737                     0.750000   \n",
              "1                               0.980193                     0.500000   \n",
              "2                               0.986970                     0.750000   \n",
              "3                               0.988228                     0.750000   \n",
              "4                               0.980980                     0.750000   \n",
              "...                                  ...                          ...   \n",
              "662855                          0.997241                     0.750000   \n",
              "662856                          0.990022                     0.768832   \n",
              "662857                          0.999121                     1.000000   \n",
              "662858                          0.982637                     0.750000   \n",
              "662859                          0.975562                     0.750000   \n",
              "\n",
              "        NAME_INCOME_TYPE_Working  DAYS_LAST_PHONE_CHANGE  FLAG_DOCUMENT_3  \\\n",
              "0                            1.0                0.739968              1.0   \n",
              "1                            0.0                0.810135              1.0   \n",
              "2                            1.0                0.813116              0.0   \n",
              "3                            1.0                0.858519              1.0   \n",
              "4                            1.0                0.746388              0.0   \n",
              "...                          ...                     ...              ...   \n",
              "662855                       1.0                0.823446              1.0   \n",
              "662856                       1.0                0.893660              1.0   \n",
              "662857                       1.0                0.940217              0.0   \n",
              "662858                       1.0                0.944038              1.0   \n",
              "662859                       1.0                0.582141              1.0   \n",
              "\n",
              "        PREV_APPL_MEAN_DAYS_DECISION  CODE_GENDER_M  DAYS_ID_PUBLISH  \\\n",
              "0                           0.793151            1.0         0.705433   \n",
              "1                           0.553767            0.0         0.959566   \n",
              "2                           0.721575            1.0         0.648326   \n",
              "3                           0.907382            0.0         0.661387   \n",
              "4                           0.581906            1.0         0.519522   \n",
              "...                              ...            ...              ...   \n",
              "662855                      0.779538            1.0         0.764924   \n",
              "662856                      0.919978            0.0         0.433608   \n",
              "662857                      0.936183            0.0         0.705244   \n",
              "662858                      0.618627            1.0         0.851677   \n",
              "662859                      0.633278            0.0         0.356632   \n",
              "\n",
              "        EMERGENCYSTATE_MODE_No  ELEVATORS_MEDI  FLOORSMAX_AVG  \\\n",
              "0                     1.000000            0.00       0.083300   \n",
              "1                     1.000000            0.08       0.291700   \n",
              "2                     0.000000            0.00       0.166700   \n",
              "3                     0.000000            0.00       0.166700   \n",
              "4                     0.000000            0.00       0.166700   \n",
              "...                        ...             ...            ...   \n",
              "662855                0.000000            0.00       0.166700   \n",
              "662856                1.000000            0.00       0.166700   \n",
              "662857                0.000000            0.00       0.166700   \n",
              "662858                1.000000            0.00       0.011969   \n",
              "662859                0.084432            0.00       0.166700   \n",
              "\n",
              "        PREV_BUR_MEAN_DAYS_ENDDATE_FACT  \n",
              "0                              0.916731  \n",
              "1                              0.868999  \n",
              "2                              0.936429  \n",
              "3                              0.889405  \n",
              "4                              0.906524  \n",
              "...                                 ...  \n",
              "662855                         0.892926  \n",
              "662856                         0.697703  \n",
              "662857                         0.997252  \n",
              "662858                         0.893496  \n",
              "662859                         0.826608  \n",
              "\n",
              "[662860 rows x 21 columns]"
            ]
          },
          "metadata": {},
          "execution_count": 20
        }
      ]
    },
    {
      "cell_type": "code",
      "metadata": {
        "id": "BOiKWnJDv6XS"
      },
      "source": [
        "Var_imp = Var_imp.drop('Unnamed: 0', axis=1)"
      ],
      "execution_count": null,
      "outputs": []
    },
    {
      "cell_type": "code",
      "metadata": {
        "colab": {
          "base_uri": "https://localhost:8080/"
        },
        "id": "dq-ci7SNn4y7",
        "outputId": "6a47b2ab-f3a0-4f42-ceeb-79c92380da84"
      },
      "source": [
        "Var_imp.dtypes.value_counts()"
      ],
      "execution_count": null,
      "outputs": [
        {
          "output_type": "execute_result",
          "data": {
            "text/plain": [
              "float64    20\n",
              "dtype: int64"
            ]
          },
          "metadata": {},
          "execution_count": 22
        }
      ]
    },
    {
      "cell_type": "code",
      "metadata": {
        "colab": {
          "base_uri": "https://localhost:8080/",
          "height": 451
        },
        "id": "CUJi2yxbxaZS",
        "outputId": "87c2573d-fb05-4c15-b6b8-151b3facaf6b"
      },
      "source": [
        "Var_imp"
      ],
      "execution_count": null,
      "outputs": [
        {
          "output_type": "execute_result",
          "data": {
            "text/html": [
              "<div>\n",
              "<style scoped>\n",
              "    .dataframe tbody tr th:only-of-type {\n",
              "        vertical-align: middle;\n",
              "    }\n",
              "\n",
              "    .dataframe tbody tr th {\n",
              "        vertical-align: top;\n",
              "    }\n",
              "\n",
              "    .dataframe thead th {\n",
              "        text-align: right;\n",
              "    }\n",
              "</style>\n",
              "<table border=\"1\" class=\"dataframe\">\n",
              "  <thead>\n",
              "    <tr style=\"text-align: right;\">\n",
              "      <th></th>\n",
              "      <th>TARGET</th>\n",
              "      <th>EXT_SOURCE_2</th>\n",
              "      <th>EXT_SOURCE_3</th>\n",
              "      <th>EXT_SOURCE_1</th>\n",
              "      <th>PREV_BUR_MEAN_DAYS_CREDIT</th>\n",
              "      <th>DAYS_BIRTH</th>\n",
              "      <th>DAYS_EMPLOYED</th>\n",
              "      <th>NAME_EDUCATION_TYPE_Secondary / secondary special</th>\n",
              "      <th>PREV_BUR_MEAN_DAYS_CREDIT_UPDATE</th>\n",
              "      <th>REGION_RATING_CLIENT_W_CITY</th>\n",
              "      <th>NAME_INCOME_TYPE_Working</th>\n",
              "      <th>DAYS_LAST_PHONE_CHANGE</th>\n",
              "      <th>FLAG_DOCUMENT_3</th>\n",
              "      <th>PREV_APPL_MEAN_DAYS_DECISION</th>\n",
              "      <th>CODE_GENDER_M</th>\n",
              "      <th>DAYS_ID_PUBLISH</th>\n",
              "      <th>EMERGENCYSTATE_MODE_No</th>\n",
              "      <th>ELEVATORS_MEDI</th>\n",
              "      <th>FLOORSMAX_AVG</th>\n",
              "      <th>PREV_BUR_MEAN_DAYS_ENDDATE_FACT</th>\n",
              "    </tr>\n",
              "  </thead>\n",
              "  <tbody>\n",
              "    <tr>\n",
              "      <th>0</th>\n",
              "      <td>1.0</td>\n",
              "      <td>0.307542</td>\n",
              "      <td>0.155054</td>\n",
              "      <td>0.073300</td>\n",
              "      <td>0.700890</td>\n",
              "      <td>0.881337</td>\n",
              "      <td>0.964437</td>\n",
              "      <td>1.0</td>\n",
              "      <td>0.987737</td>\n",
              "      <td>0.750000</td>\n",
              "      <td>1.0</td>\n",
              "      <td>0.739968</td>\n",
              "      <td>1.0</td>\n",
              "      <td>0.793151</td>\n",
              "      <td>1.0</td>\n",
              "      <td>0.705433</td>\n",
              "      <td>1.000000</td>\n",
              "      <td>0.00</td>\n",
              "      <td>0.083300</td>\n",
              "      <td>0.916731</td>\n",
              "    </tr>\n",
              "    <tr>\n",
              "      <th>1</th>\n",
              "      <td>0.0</td>\n",
              "      <td>0.727773</td>\n",
              "      <td>0.595159</td>\n",
              "      <td>0.313736</td>\n",
              "      <td>0.520619</td>\n",
              "      <td>0.473087</td>\n",
              "      <td>0.933676</td>\n",
              "      <td>0.0</td>\n",
              "      <td>0.980193</td>\n",
              "      <td>0.500000</td>\n",
              "      <td>0.0</td>\n",
              "      <td>0.810135</td>\n",
              "      <td>1.0</td>\n",
              "      <td>0.553767</td>\n",
              "      <td>0.0</td>\n",
              "      <td>0.959566</td>\n",
              "      <td>1.000000</td>\n",
              "      <td>0.08</td>\n",
              "      <td>0.291700</td>\n",
              "      <td>0.868999</td>\n",
              "    </tr>\n",
              "    <tr>\n",
              "      <th>2</th>\n",
              "      <td>0.0</td>\n",
              "      <td>0.650190</td>\n",
              "      <td>0.814130</td>\n",
              "      <td>0.519046</td>\n",
              "      <td>0.703285</td>\n",
              "      <td>0.345593</td>\n",
              "      <td>0.987439</td>\n",
              "      <td>1.0</td>\n",
              "      <td>0.986970</td>\n",
              "      <td>0.750000</td>\n",
              "      <td>1.0</td>\n",
              "      <td>0.813116</td>\n",
              "      <td>0.0</td>\n",
              "      <td>0.721575</td>\n",
              "      <td>1.0</td>\n",
              "      <td>0.648326</td>\n",
              "      <td>0.000000</td>\n",
              "      <td>0.00</td>\n",
              "      <td>0.166700</td>\n",
              "      <td>0.936429</td>\n",
              "    </tr>\n",
              "    <tr>\n",
              "      <th>3</th>\n",
              "      <td>0.0</td>\n",
              "      <td>0.760751</td>\n",
              "      <td>0.595159</td>\n",
              "      <td>0.519046</td>\n",
              "      <td>0.639802</td>\n",
              "      <td>0.347884</td>\n",
              "      <td>0.830337</td>\n",
              "      <td>1.0</td>\n",
              "      <td>0.988228</td>\n",
              "      <td>0.750000</td>\n",
              "      <td>1.0</td>\n",
              "      <td>0.858519</td>\n",
              "      <td>1.0</td>\n",
              "      <td>0.907382</td>\n",
              "      <td>0.0</td>\n",
              "      <td>0.661387</td>\n",
              "      <td>0.000000</td>\n",
              "      <td>0.00</td>\n",
              "      <td>0.166700</td>\n",
              "      <td>0.889405</td>\n",
              "    </tr>\n",
              "    <tr>\n",
              "      <th>4</th>\n",
              "      <td>0.0</td>\n",
              "      <td>0.377472</td>\n",
              "      <td>0.595159</td>\n",
              "      <td>0.519046</td>\n",
              "      <td>0.606776</td>\n",
              "      <td>0.296071</td>\n",
              "      <td>0.830393</td>\n",
              "      <td>1.0</td>\n",
              "      <td>0.980980</td>\n",
              "      <td>0.750000</td>\n",
              "      <td>1.0</td>\n",
              "      <td>0.746388</td>\n",
              "      <td>0.0</td>\n",
              "      <td>0.581906</td>\n",
              "      <td>1.0</td>\n",
              "      <td>0.519522</td>\n",
              "      <td>0.000000</td>\n",
              "      <td>0.00</td>\n",
              "      <td>0.166700</td>\n",
              "      <td>0.906524</td>\n",
              "    </tr>\n",
              "    <tr>\n",
              "      <th>...</th>\n",
              "      <td>...</td>\n",
              "      <td>...</td>\n",
              "      <td>...</td>\n",
              "      <td>...</td>\n",
              "      <td>...</td>\n",
              "      <td>...</td>\n",
              "      <td>...</td>\n",
              "      <td>...</td>\n",
              "      <td>...</td>\n",
              "      <td>...</td>\n",
              "      <td>...</td>\n",
              "      <td>...</td>\n",
              "      <td>...</td>\n",
              "      <td>...</td>\n",
              "      <td>...</td>\n",
              "      <td>...</td>\n",
              "      <td>...</td>\n",
              "      <td>...</td>\n",
              "      <td>...</td>\n",
              "      <td>...</td>\n",
              "    </tr>\n",
              "    <tr>\n",
              "      <th>662855</th>\n",
              "      <td>1.0</td>\n",
              "      <td>0.232275</td>\n",
              "      <td>0.248908</td>\n",
              "      <td>0.519046</td>\n",
              "      <td>0.944229</td>\n",
              "      <td>0.414898</td>\n",
              "      <td>0.944263</td>\n",
              "      <td>1.0</td>\n",
              "      <td>0.997241</td>\n",
              "      <td>0.750000</td>\n",
              "      <td>1.0</td>\n",
              "      <td>0.823446</td>\n",
              "      <td>1.0</td>\n",
              "      <td>0.779538</td>\n",
              "      <td>1.0</td>\n",
              "      <td>0.764924</td>\n",
              "      <td>0.000000</td>\n",
              "      <td>0.00</td>\n",
              "      <td>0.166700</td>\n",
              "      <td>0.892926</td>\n",
              "    </tr>\n",
              "    <tr>\n",
              "      <th>662856</th>\n",
              "      <td>1.0</td>\n",
              "      <td>0.644083</td>\n",
              "      <td>0.360471</td>\n",
              "      <td>0.519046</td>\n",
              "      <td>0.463380</td>\n",
              "      <td>0.617653</td>\n",
              "      <td>0.984173</td>\n",
              "      <td>1.0</td>\n",
              "      <td>0.990022</td>\n",
              "      <td>0.768832</td>\n",
              "      <td>1.0</td>\n",
              "      <td>0.893660</td>\n",
              "      <td>1.0</td>\n",
              "      <td>0.919978</td>\n",
              "      <td>0.0</td>\n",
              "      <td>0.433608</td>\n",
              "      <td>1.000000</td>\n",
              "      <td>0.00</td>\n",
              "      <td>0.166700</td>\n",
              "      <td>0.697703</td>\n",
              "    </tr>\n",
              "    <tr>\n",
              "      <th>662857</th>\n",
              "      <td>1.0</td>\n",
              "      <td>0.393880</td>\n",
              "      <td>0.059486</td>\n",
              "      <td>0.519046</td>\n",
              "      <td>0.925785</td>\n",
              "      <td>0.622990</td>\n",
              "      <td>0.961884</td>\n",
              "      <td>1.0</td>\n",
              "      <td>0.999121</td>\n",
              "      <td>1.000000</td>\n",
              "      <td>1.0</td>\n",
              "      <td>0.940217</td>\n",
              "      <td>0.0</td>\n",
              "      <td>0.936183</td>\n",
              "      <td>0.0</td>\n",
              "      <td>0.705244</td>\n",
              "      <td>0.000000</td>\n",
              "      <td>0.00</td>\n",
              "      <td>0.166700</td>\n",
              "      <td>0.997252</td>\n",
              "    </tr>\n",
              "    <tr>\n",
              "      <th>662858</th>\n",
              "      <td>1.0</td>\n",
              "      <td>0.586597</td>\n",
              "      <td>0.318129</td>\n",
              "      <td>0.085116</td>\n",
              "      <td>0.602972</td>\n",
              "      <td>0.678005</td>\n",
              "      <td>0.736259</td>\n",
              "      <td>1.0</td>\n",
              "      <td>0.982637</td>\n",
              "      <td>0.750000</td>\n",
              "      <td>1.0</td>\n",
              "      <td>0.944038</td>\n",
              "      <td>1.0</td>\n",
              "      <td>0.618627</td>\n",
              "      <td>1.0</td>\n",
              "      <td>0.851677</td>\n",
              "      <td>1.000000</td>\n",
              "      <td>0.00</td>\n",
              "      <td>0.011969</td>\n",
              "      <td>0.893496</td>\n",
              "    </tr>\n",
              "    <tr>\n",
              "      <th>662859</th>\n",
              "      <td>1.0</td>\n",
              "      <td>0.763443</td>\n",
              "      <td>0.252506</td>\n",
              "      <td>0.535033</td>\n",
              "      <td>0.548743</td>\n",
              "      <td>0.479055</td>\n",
              "      <td>0.675456</td>\n",
              "      <td>1.0</td>\n",
              "      <td>0.975562</td>\n",
              "      <td>0.750000</td>\n",
              "      <td>1.0</td>\n",
              "      <td>0.582141</td>\n",
              "      <td>1.0</td>\n",
              "      <td>0.633278</td>\n",
              "      <td>0.0</td>\n",
              "      <td>0.356632</td>\n",
              "      <td>0.084432</td>\n",
              "      <td>0.00</td>\n",
              "      <td>0.166700</td>\n",
              "      <td>0.826608</td>\n",
              "    </tr>\n",
              "  </tbody>\n",
              "</table>\n",
              "<p>662860 rows × 20 columns</p>\n",
              "</div>"
            ],
            "text/plain": [
              "        TARGET  EXT_SOURCE_2  EXT_SOURCE_3  EXT_SOURCE_1  \\\n",
              "0          1.0      0.307542      0.155054      0.073300   \n",
              "1          0.0      0.727773      0.595159      0.313736   \n",
              "2          0.0      0.650190      0.814130      0.519046   \n",
              "3          0.0      0.760751      0.595159      0.519046   \n",
              "4          0.0      0.377472      0.595159      0.519046   \n",
              "...        ...           ...           ...           ...   \n",
              "662855     1.0      0.232275      0.248908      0.519046   \n",
              "662856     1.0      0.644083      0.360471      0.519046   \n",
              "662857     1.0      0.393880      0.059486      0.519046   \n",
              "662858     1.0      0.586597      0.318129      0.085116   \n",
              "662859     1.0      0.763443      0.252506      0.535033   \n",
              "\n",
              "        PREV_BUR_MEAN_DAYS_CREDIT  DAYS_BIRTH  DAYS_EMPLOYED  \\\n",
              "0                        0.700890    0.881337       0.964437   \n",
              "1                        0.520619    0.473087       0.933676   \n",
              "2                        0.703285    0.345593       0.987439   \n",
              "3                        0.639802    0.347884       0.830337   \n",
              "4                        0.606776    0.296071       0.830393   \n",
              "...                           ...         ...            ...   \n",
              "662855                   0.944229    0.414898       0.944263   \n",
              "662856                   0.463380    0.617653       0.984173   \n",
              "662857                   0.925785    0.622990       0.961884   \n",
              "662858                   0.602972    0.678005       0.736259   \n",
              "662859                   0.548743    0.479055       0.675456   \n",
              "\n",
              "        NAME_EDUCATION_TYPE_Secondary / secondary special  \\\n",
              "0                                                     1.0   \n",
              "1                                                     0.0   \n",
              "2                                                     1.0   \n",
              "3                                                     1.0   \n",
              "4                                                     1.0   \n",
              "...                                                   ...   \n",
              "662855                                                1.0   \n",
              "662856                                                1.0   \n",
              "662857                                                1.0   \n",
              "662858                                                1.0   \n",
              "662859                                                1.0   \n",
              "\n",
              "        PREV_BUR_MEAN_DAYS_CREDIT_UPDATE  REGION_RATING_CLIENT_W_CITY  \\\n",
              "0                               0.987737                     0.750000   \n",
              "1                               0.980193                     0.500000   \n",
              "2                               0.986970                     0.750000   \n",
              "3                               0.988228                     0.750000   \n",
              "4                               0.980980                     0.750000   \n",
              "...                                  ...                          ...   \n",
              "662855                          0.997241                     0.750000   \n",
              "662856                          0.990022                     0.768832   \n",
              "662857                          0.999121                     1.000000   \n",
              "662858                          0.982637                     0.750000   \n",
              "662859                          0.975562                     0.750000   \n",
              "\n",
              "        NAME_INCOME_TYPE_Working  DAYS_LAST_PHONE_CHANGE  FLAG_DOCUMENT_3  \\\n",
              "0                            1.0                0.739968              1.0   \n",
              "1                            0.0                0.810135              1.0   \n",
              "2                            1.0                0.813116              0.0   \n",
              "3                            1.0                0.858519              1.0   \n",
              "4                            1.0                0.746388              0.0   \n",
              "...                          ...                     ...              ...   \n",
              "662855                       1.0                0.823446              1.0   \n",
              "662856                       1.0                0.893660              1.0   \n",
              "662857                       1.0                0.940217              0.0   \n",
              "662858                       1.0                0.944038              1.0   \n",
              "662859                       1.0                0.582141              1.0   \n",
              "\n",
              "        PREV_APPL_MEAN_DAYS_DECISION  CODE_GENDER_M  DAYS_ID_PUBLISH  \\\n",
              "0                           0.793151            1.0         0.705433   \n",
              "1                           0.553767            0.0         0.959566   \n",
              "2                           0.721575            1.0         0.648326   \n",
              "3                           0.907382            0.0         0.661387   \n",
              "4                           0.581906            1.0         0.519522   \n",
              "...                              ...            ...              ...   \n",
              "662855                      0.779538            1.0         0.764924   \n",
              "662856                      0.919978            0.0         0.433608   \n",
              "662857                      0.936183            0.0         0.705244   \n",
              "662858                      0.618627            1.0         0.851677   \n",
              "662859                      0.633278            0.0         0.356632   \n",
              "\n",
              "        EMERGENCYSTATE_MODE_No  ELEVATORS_MEDI  FLOORSMAX_AVG  \\\n",
              "0                     1.000000            0.00       0.083300   \n",
              "1                     1.000000            0.08       0.291700   \n",
              "2                     0.000000            0.00       0.166700   \n",
              "3                     0.000000            0.00       0.166700   \n",
              "4                     0.000000            0.00       0.166700   \n",
              "...                        ...             ...            ...   \n",
              "662855                0.000000            0.00       0.166700   \n",
              "662856                1.000000            0.00       0.166700   \n",
              "662857                0.000000            0.00       0.166700   \n",
              "662858                1.000000            0.00       0.011969   \n",
              "662859                0.084432            0.00       0.166700   \n",
              "\n",
              "        PREV_BUR_MEAN_DAYS_ENDDATE_FACT  \n",
              "0                              0.916731  \n",
              "1                              0.868999  \n",
              "2                              0.936429  \n",
              "3                              0.889405  \n",
              "4                              0.906524  \n",
              "...                                 ...  \n",
              "662855                         0.892926  \n",
              "662856                         0.697703  \n",
              "662857                         0.997252  \n",
              "662858                         0.893496  \n",
              "662859                         0.826608  \n",
              "\n",
              "[662860 rows x 20 columns]"
            ]
          },
          "metadata": {},
          "execution_count": 23
        }
      ]
    },
    {
      "cell_type": "markdown",
      "metadata": {
        "id": "cPMoxyBVty8-"
      },
      "source": [
        "### Extraire les données pour entrainer notre jeux de données"
      ]
    },
    {
      "cell_type": "code",
      "metadata": {
        "id": "-z-_uGaytu84"
      },
      "source": [
        "X_imp = Var_imp.drop('TARGET', axis=1)\n",
        "y_imp = Var_imp['TARGET']"
      ],
      "execution_count": null,
      "outputs": []
    },
    {
      "cell_type": "markdown",
      "metadata": {
        "id": "8TMvxJ4PuPRU"
      },
      "source": [
        "### Préparation du jeu de données"
      ]
    },
    {
      "cell_type": "code",
      "metadata": {
        "id": "SACBIkBEtSoM"
      },
      "source": [
        "from sklearn.model_selection import train_test_split\n",
        "X_train, X_test, y_train, y_test = train_test_split(X_imp, y_imp, test_size=0.3, random_state=42)"
      ],
      "execution_count": null,
      "outputs": []
    },
    {
      "cell_type": "markdown",
      "metadata": {
        "id": "bbYz0oLE_G7i"
      },
      "source": [
        "### Définir une fonction"
      ]
    },
    {
      "cell_type": "code",
      "metadata": {
        "id": "llQohNIc_MK8"
      },
      "source": [
        "def cf_matrix_roc_auc(model, y_true, y_pred, y_pred_proba, feature_importances):\n",
        "    \n",
        "    fig = plt.figure(figsize=(20,15))\n",
        "  \n",
        "    plt.subplot(221)\n",
        "    cf_matrix = confusion_matrix(y_true, y_pred)\n",
        "    group_names = ['Vrai Neg', 'Faux Pos', 'Faux Neg', 'Vrai Pos']\n",
        "    group_counts = [\"{0:0.0f}\".format(value) for value in cf_matrix.flatten()]\n",
        "    group_percentages = [\"{0:.2%}\".format(value) for value in cf_matrix.flatten()/np.sum(cf_matrix)]\n",
        "  \n",
        "    labels = [f\"{v1}\\n{v2}\\n{v3}\" for v1, v2, v3 in zip(group_names,group_counts,group_percentages)]\n",
        "    labels = np.asarray(labels).reshape(2,2)\n",
        "    sb.heatmap(cf_matrix, annot=labels, fmt=\"\", cmap='Blues')\n",
        "\n",
        "    plt.subplot(222)\n",
        "    fpr,tpr,_ = roc_curve(y_true, y_pred_proba)\n",
        "    plt.plot(fpr, tpr, color='orange', linewidth=5, label='AUC = %0.4f' %roc_auc)\n",
        "    plt.plot([0, 1], [0, 1], color='darkblue', linestyle='--')\n",
        "    plt.xlabel('Taux de faux positif')\n",
        "    plt.ylabel('Taux de vrai positif')\n",
        "    plt.legend()\n",
        "    "
      ],
      "execution_count": null,
      "outputs": []
    },
    {
      "cell_type": "markdown",
      "metadata": {
        "id": "z_0TFC4OrEdd"
      },
      "source": [
        "### BASELINE"
      ]
    },
    {
      "cell_type": "markdown",
      "metadata": {
        "id": "VwuMrAqQxsQ-"
      },
      "source": [
        "#### Régression logistique"
      ]
    },
    {
      "cell_type": "markdown",
      "metadata": {
        "id": "D7kfm-V4r5sO"
      },
      "source": [
        "Le projet consiste à mieux comprendre le défaut de crédit rencontré chez certain client, l'anticiper, l'estimer. La prédiction peut se résumer par une sortie binaire, une acceptation de crédit, ou un refus de crédit. Afin d'avoir une première idée des performance possibles, la modélisation par régression logistique permettra d'obtenir une première baseline optimisé."
      ]
    },
    {
      "cell_type": "code",
      "metadata": {
        "id": "wCNN-sah6bmh"
      },
      "source": [
        "from sklearn.linear_model import LogisticRegression"
      ],
      "execution_count": null,
      "outputs": []
    },
    {
      "cell_type": "markdown",
      "metadata": {
        "id": "S9xxfHSw7lzl"
      },
      "source": [
        "Comme pour le modèle linéaire, il faudrait construire les commandes d’aide à\n",
        "l’interprétation des résultats.\n",
        "Pénalisation et optimisation du paramètre par validation croisée.\n",
        "GridSearchCV sera utilisé."
      ]
    },
    {
      "cell_type": "code",
      "metadata": {
        "id": "ZeIJwpdV8Jll"
      },
      "source": [
        "from sklearn.model_selection import GridSearchCV\n",
        "# grille de valeur\n",
        "param=[{\"C\":[0.01,0.05,0.1,0.15,1,10]}]\n",
        "logist= GridSearchCV(LogisticRegression(penalty=\"l2\"),param,cv=5,n_jobs=-1)\n",
        "pre_logist=logist.fit(X_train, y_train)"
      ],
      "execution_count": null,
      "outputs": []
    },
    {
      "cell_type": "code",
      "metadata": {
        "colab": {
          "base_uri": "https://localhost:8080/"
        },
        "id": "Y_tSe4jT9uO5",
        "outputId": "aec7d711-e3be-43fe-c638-fde925467e30"
      },
      "source": [
        "pre_logist.best_params_[\"C\"]"
      ],
      "execution_count": null,
      "outputs": [
        {
          "output_type": "execute_result",
          "data": {
            "text/plain": [
              "0.1"
            ]
          },
          "metadata": {},
          "execution_count": 29
        }
      ]
    },
    {
      "cell_type": "markdown",
      "metadata": {
        "id": "JsbiBKAR9-Ul"
      },
      "source": [
        "**Estimation du modèle \"optimal\" de régression logique.**"
      ]
    },
    {
      "cell_type": "code",
      "metadata": {
        "colab": {
          "base_uri": "https://localhost:8080/"
        },
        "id": "O5dpbeae-S_X",
        "outputId": "d7132383-6e0e-4adc-d3de-4ed115e39c7b"
      },
      "source": [
        "%%time\n",
        "model1 =  LogisticRegression(C=0.1,penalty=\"l2\")\n",
        "model1.fit(X_train,y_train)\n",
        "roc_auc = roc_auc_score(y_test, model1.predict_proba(X_test)[:,1])\n",
        "print('AUC : %0.4f' %roc_auc)\n",
        "print(classification_report(y_test, model1.predict(X_test)))"
      ],
      "execution_count": null,
      "outputs": [
        {
          "output_type": "stream",
          "name": "stdout",
          "text": [
            "AUC : 0.7534\n",
            "              precision    recall  f1-score   support\n",
            "\n",
            "         0.0       0.69      0.68      0.69     99354\n",
            "         1.0       0.69      0.70      0.69     99504\n",
            "\n",
            "    accuracy                           0.69    198858\n",
            "   macro avg       0.69      0.69      0.69    198858\n",
            "weighted avg       0.69      0.69      0.69    198858\n",
            "\n",
            "CPU times: user 14.1 s, sys: 16.2 s, total: 30.3 s\n",
            "Wall time: 7.95 s\n"
          ]
        }
      ]
    },
    {
      "cell_type": "code",
      "metadata": {
        "colab": {
          "base_uri": "https://localhost:8080/",
          "height": 465
        },
        "id": "U_sx11tJEFwh",
        "outputId": "234aa6fd-4dbe-460e-c55b-2f05d5ccb841"
      },
      "source": [
        "cf_matrix_roc_auc(model1, y_test, model1.predict(X_test), model1.predict_proba(X_test)[:,1], feature_importances=None)"
      ],
      "execution_count": null,
      "outputs": [
        {
          "output_type": "display_data",
          "data": {
            "image/png": "[encoded data removed]",
            "text/plain": [
              "<Figure size 1440x1080 with 3 Axes>"
            ]
          },
          "metadata": {}
        }
      ]
    },
    {
      "cell_type": "markdown",
      "metadata": {
        "id": "9q08PeDqN17t"
      },
      "source": [
        "On note un AUC de 75.34% et un taux de faux positif de 15.79% que nous prendrons comme première baseline."
      ]
    },
    {
      "cell_type": "markdown",
      "metadata": {
        "id": "FArvBvfCEBUE"
      },
      "source": [
        "#### Arbre de décision"
      ]
    },
    {
      "cell_type": "markdown",
      "metadata": {
        "id": "cWiv-JpSIbki"
      },
      "source": [
        "Les arbres binaires de décision (CART : classification and regression trees)\n",
        "s’appliquent à tous types de variables. Les options de l’algorithme sont décrites dans la documentation. La complexité du modèle est gérée par deux paramètres : max_depth, qui détermine le nombre max de feuilles dans l’arbre,\n",
        "et le nombre minimales min_samples_split d’observations requises pour\n",
        "rechercher une dichotomie(division d'un organe végétal se séparant en deux).\n"
      ]
    },
    {
      "cell_type": "markdown",
      "metadata": {
        "id": "F0_eQ9PdI_Uc"
      },
      "source": [
        "Estimation de l’arbre complet"
      ]
    },
    {
      "cell_type": "code",
      "metadata": {
        "id": "VadBmqGFJJ9E"
      },
      "source": [
        "from sklearn.tree import DecisionTreeClassifier"
      ],
      "execution_count": null,
      "outputs": []
    },
    {
      "cell_type": "code",
      "metadata": {
        "id": "xjFVTcZfFRei"
      },
      "source": [
        "param=[{\"max_depth\":list(range(1,10))}]\n",
        "pre_arbre=GridSearchCV(DecisionTreeClassifier(), param,cv=5,n_jobs=-1)\n",
        "pre_arbre_opt=pre_arbre.fit(X_train,y_train)"
      ],
      "execution_count": null,
      "outputs": []
    },
    {
      "cell_type": "code",
      "metadata": {
        "colab": {
          "base_uri": "https://localhost:8080/"
        },
        "id": "Ko01QMyFGfR_",
        "outputId": "120c09dc-8b26-4e56-b0bd-63b861133bc1"
      },
      "source": [
        "pre_arbre_opt.best_params_"
      ],
      "execution_count": null,
      "outputs": [
        {
          "output_type": "execute_result",
          "data": {
            "text/plain": [
              "{'max_depth': 9}"
            ]
          },
          "metadata": {},
          "execution_count": 34
        }
      ]
    },
    {
      "cell_type": "markdown",
      "metadata": {
        "id": "dsoZO0aSLrcv"
      },
      "source": [
        "**Estimation du modèle \"optimal\" de l'arbre.**"
      ]
    },
    {
      "cell_type": "code",
      "metadata": {
        "colab": {
          "base_uri": "https://localhost:8080/"
        },
        "id": "nYMCIHWMLvJe",
        "outputId": "50852995-b8dc-4c2d-91af-568170d04c61"
      },
      "source": [
        "%%time\n",
        "model2 =  DecisionTreeClassifier(max_depth=9)\n",
        "model2.fit(X_train,y_train)\n",
        "roc_auc = roc_auc_score(y_test, model2.predict_proba(X_test)[:,1])\n",
        "print('AUC : %0.4f' %roc_auc)\n",
        "predictors=list(X_train)\n",
        "print('Précision du GBM sur l’ensemble de test: {:.3f}'.format(model2.score(X_test, y_test)))\n",
        "pred=model2.predict(X_test)\n",
        "print(classification_report(y_test, pred))"
      ],
      "execution_count": null,
      "outputs": [
        {
          "output_type": "stream",
          "name": "stdout",
          "text": [
            "AUC : 0.8437\n",
            "Précision du GBM sur l’ensemble de test: 0.757\n",
            "              precision    recall  f1-score   support\n",
            "\n",
            "         0.0       0.74      0.79      0.76     99354\n",
            "         1.0       0.77      0.73      0.75     99504\n",
            "\n",
            "    accuracy                           0.76    198858\n",
            "   macro avg       0.76      0.76      0.76    198858\n",
            "weighted avg       0.76      0.76      0.76    198858\n",
            "\n",
            "CPU times: user 6.54 s, sys: 11 ms, total: 6.55 s\n",
            "Wall time: 6.52 s\n"
          ]
        }
      ]
    },
    {
      "cell_type": "code",
      "metadata": {
        "colab": {
          "base_uri": "https://localhost:8080/",
          "height": 465
        },
        "id": "dOyc1TGkS7UC",
        "outputId": "8013815f-18bc-469f-8483-ae2ff2b1f986"
      },
      "source": [
        "cf_matrix_roc_auc(model2, y_test, model2.predict(X_test), model2.predict_proba(X_test)[:,1], feature_importances=None)"
      ],
      "execution_count": null,
      "outputs": [
        {
          "output_type": "display_data",
          "data": {
            "image/png": "[encoded data removed]",
            "text/plain": [
              "<Figure size 1440x1080 with 3 Axes>"
            ]
          },
          "metadata": {}
        }
      ]
    },
    {
      "cell_type": "markdown",
      "metadata": {
        "id": "_75UE0AzPbao"
      },
      "source": [
        "On note un AUC de 84.37% et un taux de faux positif de 10.58% que nous prendrons comme baseline de travail du fait que l'arbre de décision est plus performant que la régression logistique."
      ]
    },
    {
      "cell_type": "markdown",
      "metadata": {
        "id": "gCWUuIKG6pzl"
      },
      "source": [
        "### Gradient Boosting"
      ]
    },
    {
      "cell_type": "markdown",
      "metadata": {
        "id": "eIMQYWPk7Hrb"
      },
      "source": [
        "**Modèles prédictifs**"
      ]
    },
    {
      "cell_type": "code",
      "metadata": {
        "id": "NwmmwG7_7AUf"
      },
      "source": [
        "from catboost import CatBoostClassifier\n",
        "from lightgbm import LGBMClassifier\n",
        "from xgboost import XGBClassifier"
      ],
      "execution_count": null,
      "outputs": []
    },
    {
      "cell_type": "code",
      "metadata": {
        "id": "Q4w5rK_j7VzP"
      },
      "source": [
        "models = [\n",
        "          CatBoostClassifier(task_type=\"GPU\", logging_level='Silent'),\n",
        "          LGBMClassifier(device='gpu'),\n",
        "          XGBClassifier(tree_method='gpu_hist', predictor='gpu_predictor')]"
      ],
      "execution_count": null,
      "outputs": []
    },
    {
      "cell_type": "code",
      "metadata": {
        "id": "FZ93KMdB7V5P"
      },
      "source": [
        "def train_models(model, X_train, X_test, y_train, y_test):\n",
        "    model.fit(X_train, y_train)\n",
        "    output = {\n",
        "      'AUC': roc_auc_score(y_test, model.predict_proba(X_test)[:,1]),\n",
        "      'Accuracy': accuracy_score(y_test, model.predict(X_test)),\n",
        "      'Precision': precision_score(y_test, model.predict(X_test)),\n",
        "      'Recall': recall_score(y_test, model.predict(X_test)),\n",
        "      'F1': f1_score(y_test, model.predict(X_test))\n",
        "      }\n",
        "          \n",
        "    return output"
      ],
      "execution_count": null,
      "outputs": []
    },
    {
      "cell_type": "code",
      "metadata": {
        "id": "k1SLrIS_mTUt"
      },
      "source": [
        "def cost_false(model, y_true, X_true):\n",
        "    '''Cost function analyzes prediction errors False Pos. and False Neg.'''\n",
        "    cm = confusion_matrix(y_true, model.predict(X_true))\n",
        "    FP = cm[0][1]/np.sum(cm)\n",
        "    FN = cm[1][0]/np.sum(cm)\n",
        "  \n",
        "    print(\"False Pos: {0:.2%}\".format(FP))\n",
        "    print(\"False Neg: {0:.2%}\".format(FN))\n",
        "    return FP, FN"
      ],
      "execution_count": null,
      "outputs": []
    },
    {
      "cell_type": "code",
      "metadata": {
        "id": "1SBABDU57V82",
        "colab": {
          "base_uri": "https://localhost:8080/"
        },
        "outputId": "b14b9a5c-10aa-4307-d73b-895cfb28d1ed"
      },
      "source": [
        "name = []\n",
        "auc = []\n",
        "accuracy = []\n",
        "precision = []\n",
        "recall = []\n",
        "f1 = []\n",
        "time_ = []\n",
        "fp=[]\n",
        "\n",
        "for model in models:\n",
        "    start = time.time()\n",
        "    results = train_models(model, X_train, X_test, y_train, y_test)\n",
        "    cf =  cost_false(model,y_test,X_test)\n",
        "\n",
        "    name.append(type(model).__name__)\n",
        "    auc.append(results['AUC'])\n",
        "    accuracy.append(results['Accuracy'])\n",
        "    precision.append(results['Precision'])\n",
        "    recall.append(results['Recall'])\n",
        "    f1.append(results['F1'])\n",
        "    time_.append(time.time()-start)\n",
        "    fp.append(cf[0])\n",
        "    \n",
        "\n",
        "#Initialise data of lists\n",
        "base_models = pd.DataFrame(data=[name, auc, accuracy, precision, recall, f1, time_,fp]).T\n",
        "base_models.columns = ['Model', 'AUC', 'Accuracy', 'Precision', 'Recall', 'F1', 'Time','fp']\n",
        "base_models.sort_values('AUC', ascending=False, inplace=True)"
      ],
      "execution_count": null,
      "outputs": [
        {
          "output_type": "stream",
          "name": "stdout",
          "text": [
            "False Pos: 4.32%\n",
            "False Neg: 7.67%\n",
            "False Pos: 4.17%\n",
            "False Neg: 7.93%\n",
            "False Pos: 7.56%\n",
            "False Neg: 8.82%\n"
          ]
        }
      ]
    },
    {
      "cell_type": "code",
      "metadata": {
        "id": "8L0fLGEH7jkd",
        "colab": {
          "base_uri": "https://localhost:8080/",
          "height": 141
        },
        "outputId": "1cce4d06-78f0-4f45-be88-0960a86fcc77"
      },
      "source": [
        "base_models"
      ],
      "execution_count": null,
      "outputs": [
        {
          "output_type": "execute_result",
          "data": {
            "text/html": [
              "<div>\n",
              "<style scoped>\n",
              "    .dataframe tbody tr th:only-of-type {\n",
              "        vertical-align: middle;\n",
              "    }\n",
              "\n",
              "    .dataframe tbody tr th {\n",
              "        vertical-align: top;\n",
              "    }\n",
              "\n",
              "    .dataframe thead th {\n",
              "        text-align: right;\n",
              "    }\n",
              "</style>\n",
              "<table border=\"1\" class=\"dataframe\">\n",
              "  <thead>\n",
              "    <tr style=\"text-align: right;\">\n",
              "      <th></th>\n",
              "      <th>Model</th>\n",
              "      <th>AUC</th>\n",
              "      <th>Accuracy</th>\n",
              "      <th>Precision</th>\n",
              "      <th>Recall</th>\n",
              "      <th>F1</th>\n",
              "      <th>Time</th>\n",
              "      <th>fp</th>\n",
              "    </tr>\n",
              "  </thead>\n",
              "  <tbody>\n",
              "    <tr>\n",
              "      <th>0</th>\n",
              "      <td>CatBoostClassifier</td>\n",
              "      <td>0.947878</td>\n",
              "      <td>0.88006</td>\n",
              "      <td>0.907442</td>\n",
              "      <td>0.846659</td>\n",
              "      <td>0.875998</td>\n",
              "      <td>9.61533</td>\n",
              "      <td>0.0432117</td>\n",
              "    </tr>\n",
              "    <tr>\n",
              "      <th>1</th>\n",
              "      <td>LGBMClassifier</td>\n",
              "      <td>0.947481</td>\n",
              "      <td>0.878999</td>\n",
              "      <td>0.909931</td>\n",
              "      <td>0.841474</td>\n",
              "      <td>0.874364</td>\n",
              "      <td>6.81352</td>\n",
              "      <td>0.041678</td>\n",
              "    </tr>\n",
              "    <tr>\n",
              "      <th>2</th>\n",
              "      <td>XGBClassifier</td>\n",
              "      <td>0.917335</td>\n",
              "      <td>0.8362</td>\n",
              "      <td>0.844973</td>\n",
              "      <td>0.823786</td>\n",
              "      <td>0.834245</td>\n",
              "      <td>1.90511</td>\n",
              "      <td>0.0756268</td>\n",
              "    </tr>\n",
              "  </tbody>\n",
              "</table>\n",
              "</div>"
            ],
            "text/plain": [
              "                Model       AUC  Accuracy Precision    Recall        F1  \\\n",
              "0  CatBoostClassifier  0.947878   0.88006  0.907442  0.846659  0.875998   \n",
              "1      LGBMClassifier  0.947481  0.878999  0.909931  0.841474  0.874364   \n",
              "2       XGBClassifier  0.917335    0.8362  0.844973  0.823786  0.834245   \n",
              "\n",
              "      Time         fp  \n",
              "0  9.61533  0.0432117  \n",
              "1  6.81352   0.041678  \n",
              "2  1.90511  0.0756268  "
            ]
          },
          "metadata": {},
          "execution_count": 42
        }
      ]
    },
    {
      "cell_type": "markdown",
      "metadata": {
        "id": "8RCz69wI-d-h"
      },
      "source": [
        "LGBMClassifier a le temps de traitement le plus long néanmoins sa précision est la meilleurs et son taux de faux positif(fp) est le plus bas c'est pour celà qu'il reste le modèle le plus performant. Mon choix se portera sur LGBMClassifier."
      ]
    },
    {
      "cell_type": "markdown",
      "metadata": {
        "id": "dBMzO8iVAMWO"
      },
      "source": [
        "## INTERPRETABILITE DU MODELE"
      ]
    },
    {
      "cell_type": "markdown",
      "metadata": {
        "id": "7TMX3OrKDoVH"
      },
      "source": [
        "### Réglage d’hyperparamètres"
      ]
    },
    {
      "cell_type": "markdown",
      "metadata": {
        "id": "H4d8bxSkDw0g"
      },
      "source": [
        "Choisir les hyperparamètres appropriés est nécessaire pour affiner et booster les performances d'un algorithme d’apprentissage automatique. La métrique utilisée dans le contexte de notre classification binaire sera l'AUC score.\n",
        "\n",
        "Grid Search ou Random Search étaient également une alternative possible, à la différence d'Hyperopt une \"méthode basique\" ne permet pas de traiter un large espace de paramètres, ici très largement privilégié.\n",
        "\n",
        "Avec Hyperopt, on peut facilement analyser notre modèle de Boosting tout en variant les hyperparamètres dans l'espace que nous allons définir ci-dessous. Hyperopt fonctionne avec les algorithmes de ML distribué, comme Apache Spark MLlib et Horovod, ainsi qu’avec les modèles ML mono-machine, comme scikit-learn et TensorFlow."
      ]
    },
    {
      "cell_type": "code",
      "metadata": {
        "id": "SGa5VqJHUEUc",
        "colab": {
          "base_uri": "https://localhost:8080/"
        },
        "outputId": "0df80755-a56b-4253-dd51-e9638459539d"
      },
      "source": [
        "!git clone https://github.com/hyperopt/hyperopt-sklearn.git"
      ],
      "execution_count": null,
      "outputs": [
        {
          "output_type": "stream",
          "name": "stdout",
          "text": [
            "fatal: destination path 'hyperopt-sklearn' already exists and is not an empty directory.\n"
          ]
        }
      ]
    },
    {
      "cell_type": "code",
      "metadata": {
        "colab": {
          "base_uri": "https://localhost:8080/"
        },
        "id": "l3sNCQgpKhwe",
        "outputId": "313a4791-9bd3-491d-9e34-272d91e4b7ca"
      },
      "source": [
        "!cd hyperopt"
      ],
      "execution_count": null,
      "outputs": [
        {
          "output_type": "stream",
          "name": "stdout",
          "text": [
            "/bin/bash: line 0: cd: hyperopt: No such file or directory\n"
          ]
        }
      ]
    },
    {
      "cell_type": "code",
      "metadata": {
        "colab": {
          "base_uri": "https://localhost:8080/"
        },
        "id": "_lvXh8deKoR0",
        "outputId": "edbe5147-6b80-4dc6-90cf-b476217270e0"
      },
      "source": [
        "!pip install -e ."
      ],
      "execution_count": null,
      "outputs": [
        {
          "output_type": "stream",
          "name": "stdout",
          "text": [
            "Obtaining file:///content/LightGBM/python-package\n",
            "Requirement already satisfied: wheel in /usr/local/lib/python3.7/dist-packages (from lightgbm==3.2.1.99) (0.37.0)\n",
            "Requirement already satisfied: numpy in /usr/local/lib/python3.7/dist-packages (from lightgbm==3.2.1.99) (1.19.5)\n",
            "Requirement already satisfied: scipy in /usr/local/lib/python3.7/dist-packages (from lightgbm==3.2.1.99) (1.4.1)\n",
            "Requirement already satisfied: scikit-learn!=0.22.0 in /usr/local/lib/python3.7/dist-packages (from lightgbm==3.2.1.99) (0.22.2.post1)\n",
            "Requirement already satisfied: joblib>=0.11 in /usr/local/lib/python3.7/dist-packages (from scikit-learn!=0.22.0->lightgbm==3.2.1.99) (1.0.1)\n",
            "Installing collected packages: lightgbm\n",
            "  Attempting uninstall: lightgbm\n",
            "    Found existing installation: lightgbm 3.2.1.99\n",
            "    Can't uninstall 'lightgbm'. No files were found to uninstall.\n",
            "  Running setup.py develop for lightgbm\n",
            "Successfully installed lightgbm-3.2.1.99\n"
          ]
        }
      ]
    },
    {
      "cell_type": "code",
      "metadata": {
        "colab": {
          "base_uri": "https://localhost:8080/"
        },
        "id": "YsrlwLy5K05u",
        "outputId": "4b34d288-a10e-49e5-ca43-7cf58ead42e4"
      },
      "source": [
        "!pip install hpsklearn"
      ],
      "execution_count": null,
      "outputs": [
        {
          "output_type": "stream",
          "name": "stdout",
          "text": [
            "Requirement already satisfied: hpsklearn in /usr/local/lib/python3.7/dist-packages (0.1.0)\n",
            "Requirement already satisfied: nose in /usr/local/lib/python3.7/dist-packages (from hpsklearn) (1.3.7)\n",
            "Requirement already satisfied: scikit-learn in /usr/local/lib/python3.7/dist-packages (from hpsklearn) (0.22.2.post1)\n",
            "Requirement already satisfied: hyperopt in /usr/local/lib/python3.7/dist-packages (from hpsklearn) (0.1.2)\n",
            "Requirement already satisfied: scipy in /usr/local/lib/python3.7/dist-packages (from hpsklearn) (1.4.1)\n",
            "Requirement already satisfied: numpy in /usr/local/lib/python3.7/dist-packages (from hpsklearn) (1.19.5)\n",
            "Requirement already satisfied: six in /usr/local/lib/python3.7/dist-packages (from hyperopt->hpsklearn) (1.15.0)\n",
            "Requirement already satisfied: tqdm in /usr/local/lib/python3.7/dist-packages (from hyperopt->hpsklearn) (4.62.0)\n",
            "Requirement already satisfied: future in /usr/local/lib/python3.7/dist-packages (from hyperopt->hpsklearn) (0.16.0)\n",
            "Requirement already satisfied: networkx in /usr/local/lib/python3.7/dist-packages (from hyperopt->hpsklearn) (2.6.2)\n",
            "Requirement already satisfied: pymongo in /usr/local/lib/python3.7/dist-packages (from hyperopt->hpsklearn) (3.12.0)\n",
            "Requirement already satisfied: joblib>=0.11 in /usr/local/lib/python3.7/dist-packages (from scikit-learn->hpsklearn) (1.0.1)\n"
          ]
        }
      ]
    },
    {
      "cell_type": "code",
      "metadata": {
        "id": "xvtgsQaIDv8x"
      },
      "source": [
        "from hyperopt import fmin, tpe, hp, STATUS_OK, Trials, space_eval"
      ],
      "execution_count": null,
      "outputs": []
    },
    {
      "cell_type": "markdown",
      "metadata": {
        "id": "9joxyxgeEMox"
      },
      "source": [
        "Espace des paramètres"
      ]
    },
    {
      "cell_type": "code",
      "metadata": {
        "id": "6ahaRgvqXs76"
      },
      "source": [
        "space = {\n",
        "    \"n_estimators\": hp.choice(\"n_estimators\", [100,200,600]),\n",
        "    'learning_rate': hp.choice('learning_rate',[0.1,0.01,0.001]),\n",
        "    \"max_depth\": hp.choice(\"max_depth\", [1,4, 7])\n",
        "    }"
      ],
      "execution_count": null,
      "outputs": []
    },
    {
      "cell_type": "code",
      "metadata": {
        "id": "ai8cSH5LqSl5"
      },
      "source": [
        "def objective(params, eval_metric='roc_auc'):\n",
        "    #objective function to be minimized. \n",
        "    #Hyperopt will seek to minimize the loss returned by this function.\n",
        "    \n",
        "    params = {\n",
        "        'n_estimators': params['n_estimators'],\n",
        "        'max_depth': params['max_depth'],\n",
        "        #'criterion': params['criterion'],\n",
        "        #'boosting_type': params['boosting_type'],\n",
        "        'learning_rate': params['learning_rate'],\n",
        "        'device':'gpu'\n",
        "        }\n",
        "  \n",
        "    \n",
        "    model= LGBMClassifier(**params)\n",
        "    cv = StratifiedKFold(5)\n",
        "    if eval_metric == 'roc_auc': \n",
        "        score = cross_val_score(model, X_train, y_train, scoring='roc_auc', cv=cv).mean()\n",
        "\n",
        "    elif eval_metric == 'custom_score': \n",
        "        y_pred = cross_val_predict(model, X_train, y_train, method='predict', cv=cv)\n",
        "        score = custom_score(y_train, y_pred)\n",
        "  \n",
        "    loss = 1 - score    \n",
        "    return {'loss': loss, 'params': params, 'status': STATUS_OK}"
      ],
      "execution_count": null,
      "outputs": []
    },
    {
      "cell_type": "markdown",
      "metadata": {
        "id": "seZ0dBGypB2f"
      },
      "source": [
        "![image.png](data:image/png;base64,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)"
      ]
    },
    {
      "cell_type": "code",
      "metadata": {
        "colab": {
          "base_uri": "https://localhost:8080/"
        },
        "id": "i9SdlfsMsL9E",
        "outputId": "7650ea7d-974e-4417-cf66-5909ede82d9e"
      },
      "source": [
        "%%time\n",
        "lgbm = LGBMClassifier( \n",
        "                      n_estimators= 600,\n",
        "                      learning_rate=0.1,\n",
        "                      criterion='entropy',\n",
        "                      boosting_type='gbdt', \n",
        "                      objective='binary',\n",
        "                      max_depth = 4,\n",
        "                      device='gpu'\n",
        "                      )"
      ],
      "execution_count": null,
      "outputs": [
        {
          "output_type": "stream",
          "name": "stdout",
          "text": [
            "CPU times: user 26 µs, sys: 11 µs, total: 37 µs\n",
            "Wall time: 40.8 µs\n"
          ]
        }
      ]
    },
    {
      "cell_type": "code",
      "metadata": {
        "colab": {
          "base_uri": "https://localhost:8080/"
        },
        "id": "DwS20Nfvy3Jc",
        "outputId": "041f59cc-9843-489e-8dda-13abe884cb64"
      },
      "source": [
        "lgbm.fit(X_train, y_train)"
      ],
      "execution_count": null,
      "outputs": [
        {
          "output_type": "stream",
          "name": "stdout",
          "text": [
            "[LightGBM] [Warning] Unknown parameter: criterion\n"
          ]
        },
        {
          "output_type": "execute_result",
          "data": {
            "text/plain": [
              "LGBMClassifier(boosting_type='gbdt', class_weight=None, colsample_bytree=1.0,\n",
              "               criterion='entropy', device='gpu', importance_type='split',\n",
              "               learning_rate=0.1, max_depth=4, min_child_samples=20,\n",
              "               min_child_weight=0.001, min_split_gain=0.0, n_estimators=600,\n",
              "               n_jobs=-1, num_leaves=31, objective='binary', random_state=None,\n",
              "               reg_alpha=0.0, reg_lambda=0.0, silent='warn', subsample=1.0,\n",
              "               subsample_for_bin=200000, subsample_freq=0)"
            ]
          },
          "metadata": {},
          "execution_count": 51
        }
      ]
    },
    {
      "cell_type": "code",
      "metadata": {
        "colab": {
          "base_uri": "https://localhost:8080/"
        },
        "id": "O5ll023FzATx",
        "outputId": "29b52005-c82a-4e85-c45b-f251bad4e9db"
      },
      "source": [
        "roc_auc = roc_auc_score(y_test, lgbm.predict_proba(X_test)[:,1])\n",
        "print('AUC : %0.6f' %roc_auc)"
      ],
      "execution_count": null,
      "outputs": [
        {
          "output_type": "stream",
          "name": "stdout",
          "text": [
            "AUC : 0.953819\n"
          ]
        }
      ]
    },
    {
      "cell_type": "code",
      "metadata": {
        "colab": {
          "base_uri": "https://localhost:8080/"
        },
        "id": "NekaB3HNzHpn",
        "outputId": "5c6c8167-0fb9-4fdf-b79a-4e4bb442857a"
      },
      "source": [
        "%%time\n",
        "predictors=list(X_train)\n",
        "print('Précision du GBM sur l’ensemble de test: {:.3f}'.format(lgbm.score(X_test, y_test)))\n",
        "pred=lgbm.predict(X_test)\n",
        "print(classification_report(y_test, pred))"
      ],
      "execution_count": null,
      "outputs": [
        {
          "output_type": "stream",
          "name": "stdout",
          "text": [
            "Précision du GBM sur l’ensemble de test: 0.889\n",
            "              precision    recall  f1-score   support\n",
            "\n",
            "         0.0       0.87      0.92      0.89     99354\n",
            "         1.0       0.91      0.86      0.89     99504\n",
            "\n",
            "    accuracy                           0.89    198858\n",
            "   macro avg       0.89      0.89      0.89    198858\n",
            "weighted avg       0.89      0.89      0.89    198858\n",
            "\n",
            "CPU times: user 11 s, sys: 0 ns, total: 11 s\n",
            "Wall time: 10.9 s\n"
          ]
        }
      ]
    },
    {
      "cell_type": "markdown",
      "metadata": {
        "id": "lkNEG5cokbYi"
      },
      "source": [
        "### Modèle LGBMClassifier Optimisé"
      ]
    },
    {
      "cell_type": "code",
      "metadata": {
        "colab": {
          "base_uri": "https://localhost:8080/",
          "height": 465
        },
        "id": "fusMXSqJzQWd",
        "outputId": "e3013cbb-d960-42d1-a328-55df8e2932dc"
      },
      "source": [
        "cf_matrix_roc_auc(lgbm, y_test, lgbm.predict(X_test), lgbm.predict_proba(X_test)[:,1], feature_importances=None)"
      ],
      "execution_count": null,
      "outputs": [
        {
          "output_type": "display_data",
          "data": {
            "image/png": "[encoded data removed]",
            "text/plain": [
              "<Figure size 1440x1080 with 3 Axes>"
            ]
          },
          "metadata": {}
        }
      ]
    },
    {
      "cell_type": "markdown",
      "metadata": {
        "id": "zQvxD_qj3k2u"
      },
      "source": [
        "On note que notre modèle LGBMClassifier Optimisé a un AUC de 95.38% et un taux de faux positif de 4.03% légérement meilleur que le modèle de base LGBMClassifier qui comptabilisait un AUC de 94.75% et un taux de faux positif de 4.17%."
      ]
    },
    {
      "cell_type": "markdown",
      "metadata": {
        "id": "g2NVmo4Or9xZ"
      },
      "source": [
        "### Importance des variables"
      ]
    },
    {
      "cell_type": "markdown",
      "metadata": {
        "id": "ZXqGaPP44VkP"
      },
      "source": [
        ""
      ]
    },
    {
      "cell_type": "code",
      "metadata": {
        "colab": {
          "base_uri": "https://localhost:8080/",
          "height": 756
        },
        "id": "2Yd0qpzGsDAK",
        "outputId": "562584b7-4e6a-4e52-9d96-52e3912ed099"
      },
      "source": [
        "feat_imp = pd.Series(lgbm.feature_importances_, predictors).sort_values(ascending=False)\n",
        "feat_imp.plot(kind='bar', title='Importance des variables')\n",
        "plt.ylabel('Score d’importance des fonctionnalités')\n",
        "plt.xticks(rotation=90)"
      ],
      "execution_count": null,
      "outputs": [
        {
          "output_type": "execute_result",
          "data": {
            "text/plain": [
              "(array([ 0,  1,  2,  3,  4,  5,  6,  7,  8,  9, 10, 11, 12, 13, 14, 15, 16,\n",
              "        17, 18]), <a list of 19 Text major ticklabel objects>)"
            ]
          },
          "metadata": {},
          "execution_count": 55
        },
        {
          "output_type": "display_data",
          "data": {
            "image/png": "[encoded data removed]",
            "text/plain": [
              "<Figure size 432x288 with 1 Axes>"
            ]
          },
          "metadata": {}
        }
      ]
    },
    {
      "cell_type": "markdown",
      "metadata": {
        "id": "dG9yBLa06uxu"
      },
      "source": [
        "On constate que la distribution des 19 variables les plus importantes classé par score d'importance des fonctionnalités de manière décroissante, on remarque que la variable FLOORSMAX_AVG apparaît en haut de se classement. "
      ]
    },
    {
      "cell_type": "markdown",
      "metadata": {
        "id": "6_8rTwrLhifX"
      },
      "source": [
        "### La fonction coût "
      ]
    },
    {
      "cell_type": "markdown",
      "metadata": {
        "id": "yqTCrrDCfc94"
      },
      "source": [
        "La fonction coût sera déterminée par l'analyse des erreurs de prédiction\n",
        "FP (False Positive) : les cas où la prédiction est positive, mais où la valeur réelle est négative.\n",
        "\n",
        "- Perte d'opportunité si le crédit client est refusé à tort, alors qu'il aurait été en mesure d'être remboursé.\n",
        "\n",
        "FN (False Negative) : les cas où la prédiction est négative, mais où la valeur réelle est positive.\n",
        "\n",
        "- Perte réelle si le crédit client accepté se transforme en défaut de paiement.\n",
        "\n",
        "Ainsi, les pertes d'un crédit en raison d'une mauvaise classification dépendront des probabilités Faux Positifs et Faux Négatifs.\n",
        "\n",
        "L'idée est d'éviter les clients avec un fort risque de défaut. Il est donc nécessaire de pénaliser les FP et FN cités précédemment. Pour réduire ce rique de perte financière, il faut maximiser deux critères Recall et Precision.\n",
        "\n",
        "$$\\begin{aligned}{\\text{Precision}}={\\frac {tp}{tp+fp}}\\\\{\\text{Recall}}={\\frac {tp}{tp+fn}}\\,\\end{aligned}$$\n",
        "Fonction qui optimise Precision et Recall avec une importance plus forte pour le critère Precision:$$\\begin{aligned}{\\text{Fscore}}={\\frac {precision.recall}{Beta^2.precision + recall}}\\,\\end{aligned}$$\n",
        "\n",
        "Avec Beta le coefficient d'importance relative au critère Precision par rapport au recall :$$\\begin{aligned}{\\text{Fscore}}={\\frac {precision.recall}{Beta^2.precision + recall}}\\,=(1+Beta^2) . {\\frac {tp}{(1+Beta^2).tp + Beta^2.fn + fp}}\\,\\end{aligned}$$\n",
        "\n",
        "_Explication sur la F-measure Wikipedia_\n",
        "\n",
        "L'application de cette métrique métier passe par la quantification de l'importance relative entre recall et précision, à savoir Beta (β). Cela revient à estimer le coût moyen d'un défaut, et le coût d'opportunité d'un client refusé par erreur. Cette connaissance métier n'est pas évoquée à ce stade du projet, nous allons donc l'estimer. Cette hypothèse pourra bien entendu être modifiée avec un interlocuteur métier.\n",
        "\n",
        "Défaut de paiement 30% du montant du crédit en pertes et autres frais de recouvrement.\n",
        "10% de chance d'obtenir un crédit pour un client lambda qui souhaite emprunter.\n",
        "$$\\begin{aligned}{\\text{Beta}}={\\frac {coef Recall}{coef Precision}}\\end{aligned}$$\n",
        "\n",
        "On peut se fixer l'hypothèse d'un Beta = 3. Vérifions-le avec une étape de tests fonctionnels."
      ]
    },
    {
      "cell_type": "code",
      "metadata": {
        "colab": {
          "base_uri": "https://localhost:8080/"
        },
        "id": "62kxcSsypNPh",
        "outputId": "c7e58b3b-ee31-4ba7-8282-5c9654eb7f15"
      },
      "source": [
        "#Tests fonctionels avec des listes contenant 4 int: tp, tn, fp, fn\n",
        "test_0 = [500, 300, 10, 30]\n",
        "test_1 = [500, 300, 30, 10]\n",
        "test_2 = [400, 300, 70, 50]\n",
        "test_3 = [400, 300, 50, 70]\n",
        "test_4 = [350, 250, 80, 120]\n",
        "test_5 = [350, 250, 180, 90]\n",
        "\n",
        "tests = [test_0, test_1, test_2, test_3, test_4, test_5]\n",
        "\n",
        "\n",
        "def my_score(predictions_success: list) -> int:\n",
        "    '''scoring fonction'''\n",
        "    tp, tn, fp, fn = predictions_success\n",
        "  \n",
        "    beta = 3\n",
        "    recall = tp / (tp + fn)\n",
        "    precision = tp / (tp + fp) \n",
        "    fscore = (1+beta)*(tp / ((1+3)*tp + beta*fn + fp))\n",
        "    \n",
        "    return 1-fscore\n",
        "\n",
        "for i, t in enumerate(tests):\n",
        "    print(\"############################\")\n",
        "    print(\"Test\", i, \":\", t)\n",
        "    print(\"Score :\", my_score(t))"
      ],
      "execution_count": null,
      "outputs": [
        {
          "output_type": "stream",
          "name": "stdout",
          "text": [
            "############################\n",
            "Test 0 : [500, 300, 10, 30]\n",
            "Score : 0.04761904761904767\n",
            "############################\n",
            "Test 1 : [500, 300, 30, 10]\n",
            "Score : 0.029126213592232997\n",
            "############################\n",
            "Test 2 : [400, 300, 70, 50]\n",
            "Score : 0.1208791208791209\n",
            "############################\n",
            "Test 3 : [400, 300, 50, 70]\n",
            "Score : 0.13978494623655913\n",
            "############################\n",
            "Test 4 : [350, 250, 80, 120]\n",
            "Score : 0.23913043478260865\n",
            "############################\n",
            "Test 5 : [350, 250, 180, 90]\n",
            "Score : 0.2432432432432432\n"
          ]
        }
      ]
    },
    {
      "cell_type": "markdown",
      "metadata": {
        "id": "Scl1L0CVf3zb"
      },
      "source": [
        "Les résultats sont satisfaisants, les risques liés aux erreurs de faux négatifs et positifs font ressortir un score plus importants, à l'inverse un dossier présentant moins de risque aura un score proche de zéro."
      ]
    },
    {
      "cell_type": "markdown",
      "metadata": {
        "id": "8IPMuLguARE_"
      },
      "source": [
        "## CONCLUSION"
      ]
    },
    {
      "cell_type": "markdown",
      "metadata": {
        "id": "09jX-wJRYRbY"
      },
      "source": [
        "Après avoir rééquilibré mon jeu de données, j'ai effectué une corrélation pour retenir les 29 variables les plus corrélés avec la TARGET, ensuite j'ai utiliser ces 30 variables dans une carte thermique des corrélation, qui m'a permis de réduire mon jeu de données à 25 variables, j'ai donc par la suite entrainer mon jeu de données sur ces 25 variables. A ce stade j'ai pu réaliser une baseline optimisée faite sur deux algorithmes simple, j'ai retenue l'arbre de décision comme baseline de travail dont l'AUC était estimé ≈ 84.37% et un taux de faux positif de 10.58%. La suite de l'étude a été déroulée vers 3 algorithmes plus complexes de gradient boosting implémentés par LightGbm vs CatBoost vs XGBoost. J'ai donc pu démontrer les performances de ces algorithmes. LGBMClassifier a le temps de traitement le plus long néanmoins sa précision est la meilleurs et son taux de faux positif(fp) est le plus bas c'est pour celà qu'il reste le modèle le plus performant. Mon choix c'est porté sur LGBMClassifier pour l'optimisation des Hyperparamètres (Hyperopt).\n",
        "\n",
        "On note que notre modèle LGBMClassifier Optimisé a un AUC de 95.38% et un taux de faux positif de 4.03% légérement meilleur que le modèle de base LGBMClassifier qui comptabilisait un AUC de 94.75% et un taux de faux positif de 4.17%.\n",
        "\n",
        "Mon choix de modèle c'est porté sur le LGBMClassifier Optimisé.\n",
        "\n",
        "\n",
        "La fonction coût permet de pénaliser les erreurs de prédiction qui peuvent coûter cher à des organisme de crédits. Les résultats sont satisfaisants, les risques liés aux erreurs de faux négatifs et positifs font ressortir un score plus importants, à l'inverse un dossier présentant moins de risque aura un score proche de zéro. \n",
        "\n"
      ]
    }
  ]
}